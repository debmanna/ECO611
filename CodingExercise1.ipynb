{
 "cells": [
  {
   "cell_type": "markdown",
   "metadata": {},
   "source": [
    "##### Q1. \n",
    "Write a code to obtain a positive integer as the input, and spell the number digit-by-digit. For example, if the input is 4503, your code should print \"four five zero three\"."
   ]
  },
  {
   "cell_type": "code",
   "execution_count": 1,
   "metadata": {},
   "outputs": [],
   "source": [
    "x = [int(i) for i in input(\"ENTER a number: \")]\n",
    "\n",
    "dict1 = {\n",
    "    0:\"zero\", 1:\"one\", 2:\"two\", 3:\"three\", 4:\"four\",\n",
    "    5:\"five\", 6:\"six\", 7:\"seven\", 8:\"eight\", 9:\"nine\"\n",
    "}\n",
    "\n",
    "for i in x:\n",
    "    print(dict1[i], end=\" \")"
   ]
  },
  {
   "cell_type": "markdown",
   "metadata": {},
   "source": [
    "##### Q2\n",
    "\n",
    "Write a code to compute the greatest common factor and the least common multiple of two numbers."
   ]
  },
  {
   "cell_type": "code",
   "execution_count": 1,
   "metadata": {},
   "outputs": [
    {
     "name": "stdout",
     "output_type": "stream",
     "text": [
      "GCF of 1 and 2 is 1\n",
      "LCM of 1 and 2 is 2\n"
     ]
    }
   ],
   "source": [
    "#HCF\n",
    "def HCF(a,b):\n",
    "    if a<b :\n",
    "        a,b = b,a\n",
    "        \n",
    "    if b == 0:\n",
    "        return a\n",
    "\n",
    "    return HCF(a-b,b)\n",
    "    \n",
    "a,b = (int(x) for x in input(\"Enter Two Number\").split())\n",
    "\n",
    "x = HCF(a,b)\n",
    "\n",
    "print(\"GCF of {} and {} is {}\".format(a,b,x))\n",
    "print(\"LCM of {} and {} is {}\".format(a,b,a*b//x))"
   ]
  },
  {
   "cell_type": "markdown",
   "metadata": {},
   "source": [
    "##### Q3\n",
    "\n",
    "Write a code to compute all the saddle points of a given matrix along with the locations in the matrix. Recall that a saddle point is an element of a matrix that is simultaneously the maximum of a row and the minimum of a column, or the minimum of a row and the maximum of a column.\n"
   ]
  },
  {
   "cell_type": "code",
   "execution_count": 36,
   "metadata": {},
   "outputs": [
    {
     "name": "stdout",
     "output_type": "stream",
     "text": [
      "[[ 6 10]]\n",
      "{(0, 1)}\n",
      "{(0, 0)}\n"
     ]
    }
   ],
   "source": [
    "import numpy as np\n",
    "\n",
    "m = np.random.randint(1,11)\n",
    "n = np.random.randint(1,11)\n",
    "A = np.random.randint(0,11, (m,n))\n",
    "\n",
    "print(A)\n",
    "\n",
    "rowwise_maxima =set()\n",
    "rowwise_minima =set()\n",
    "for i in range(m):\n",
    "    x1 = A[i,:].max()\n",
    "    li1 = np.where(A[i,:]==x1)[0]\n",
    "    \n",
    "    x2 = A[i,:].min()\n",
    "    li2 = np.where(A[i,:]==x2)[0]\n",
    "    \n",
    "    for ele in li1:\n",
    "        rowwise_maxima.add((i,ele))\n",
    "    for ele in li2:\n",
    "        rowwise_minima.add((i,ele))\n",
    "\n",
    "columnwise_maxima =set()\n",
    "columnwise_minima =set()\n",
    "for j in range(n):\n",
    "    x1 = A[:,j].max()\n",
    "    li1 = np.where(A[:,j]==x1)[0]\n",
    "    \n",
    "    x2 = A[:,j].min()\n",
    "    li2 = np.where(A[:,j]==x2)[0]\n",
    "    \n",
    "    for ele in li1:\n",
    "        columnwise_maxima.add((ele,j))\n",
    "    for ele in li2:\n",
    "        columnwise_minima.add((ele,j))\n",
    "\n",
    "print(rowwise_maxima.intersection(columnwise_minima))\n",
    "print(rowwise_minima.intersection(columnwise_maxima))"
   ]
  },
  {
   "cell_type": "markdown",
   "metadata": {},
   "source": [
    "Q4"
   ]
  },
  {
   "cell_type": "code",
   "execution_count": 60,
   "metadata": {},
   "outputs": [
    {
     "name": "stdout",
     "output_type": "stream",
     "text": [
      "   9     8     7     6     5     3\n",
      "5 x + 8 x + 3 x + 1 x + 1 x + 3 x + 1 x + 6 \n",
      "\n",
      "    9     8     6     5     2\n",
      "1 x + 9 x + 1 x + 6 x + 2 x + 8 x + 9\n"
     ]
    },
    {
     "data": {
      "text/plain": [
       "array([  5,  53,  75,  33,  48,  60,  22,  44,  63, 133, 170,  38,  29,\n",
       "        51,  24,  29,  20,  57,  54])"
      ]
     },
     "execution_count": 60,
     "metadata": {},
     "output_type": "execute_result"
    }
   ],
   "source": [
    "import numpy as np\n",
    "\n",
    "m = np.random.randint(1,11)\n",
    "n = np.random.randint(1,11)\n",
    "\n",
    "a = np.random.randint(0,11,m)\n",
    "b = np.random.randint(0,11,n)\n",
    "\n",
    "print(np.poly1d(a),\"\\n\\n\",np.poly1d(b))\n",
    "\n",
    "np.polymul(a,b)"
   ]
  },
  {
   "cell_type": "markdown",
   "metadata": {},
   "source": [
    "Q5"
   ]
  },
  {
   "cell_type": "code",
   "execution_count": 68,
   "metadata": {},
   "outputs": [
    {
     "name": "stdout",
     "output_type": "stream",
     "text": [
      "[ 6  6  5  1  9 10  9 10  8]\n",
      "[ 1  5  6  6  8  9  9 10 10]\n",
      "[10 10  9  9  8  6  6  5  1]\n"
     ]
    }
   ],
   "source": [
    "import numpy as np\n",
    "\n",
    "m = np.random.randint(1,11)\n",
    "a = np.random.randint(0,11,m)\n",
    "print(a)\n",
    "\n",
    "a = np.sort(a)\n",
    "print(a)\n",
    "print(a[::-1])"
   ]
  },
  {
   "cell_type": "markdown",
   "metadata": {},
   "source": [
    "Q6"
   ]
  },
  {
   "cell_type": "code",
   "execution_count": 185,
   "metadata": {},
   "outputs": [
    {
     "name": "stdout",
     "output_type": "stream",
     "text": [
      "The original Matrix:\n",
      "\n",
      " [[ 8.  2.]\n",
      " [ 3.  2.]\n",
      " [ 3.  4.]\n",
      " [ 5.  5.]\n",
      " [ 9.  3.]\n",
      " [ 8.  4.]\n",
      " [ 6.  6.]\n",
      " [ 2.  5.]\n",
      " [ 6.  5.]\n",
      " [ 7. 10.]] \n",
      "\n",
      "\n",
      "The RREF matrix:\n",
      "\n",
      "[1.   0.25]\n",
      "[0. 1.]\n",
      "[0. 0.]\n",
      "[0. 0.]\n",
      "[0. 0.]\n",
      "[0. 0.]\n",
      "[0. 0.]\n",
      "[0. 0.]\n",
      "[0. 0.]\n",
      "[0. 0.]\n"
     ]
    }
   ],
   "source": [
    "import numpy as np\n",
    "\n",
    "def RREF (A):\n",
    "    m,n = A.shape\n",
    "    det = 1\n",
    "    for i in range(m):\n",
    "        #index of first non zero element\n",
    "        x = np.nonzero(A[i,:])[0]\n",
    "        if x.size == 0:\n",
    "            continue\n",
    "        first_nonzeroElement_index = x[0]\n",
    "        \n",
    "        det = det * A[i,first_nonzeroElement_index]\n",
    "        \n",
    "        A[i,:] = A[i,:]/A[i,first_nonzeroElement_index]\n",
    "        \n",
    "        for k in range(i+1,m):\n",
    "            if A[k,:][first_nonzeroElement_index] == 0:\n",
    "                continue\n",
    "            \n",
    "            A[k,:] = A[k,:] - A[k,:][first_nonzeroElement_index]*A[i,:]\n",
    "    \n",
    "    return A,det\n",
    "    \n",
    "m = np.random.randint(1,11)\n",
    "n = np.random.randint(1,11)\n",
    "\n",
    "A = np.random.randint(1,11,(m,n))\n",
    "\n",
    "A = A.astype(float)\n",
    "\n",
    "print(\"The original Matrix:\\n\\n\",A,\"\\n\\n\")\n",
    "\n",
    "print(\"The RREF matrix:\\n\")\n",
    "\n",
    "RREF_matrix,det = RREF(A.copy())\n",
    "\n",
    "for x in RREF_matrix.round(3):\n",
    "    print(x)\n",
    "\n",
    "if m==n:\n",
    "    print(\"The determinant of the matrix: \", det)\n",
    "    \n",
    "    print(\"The determinant of the matrix: \", np.linalg.det(A))\n",
    "\n",
    "#print(RREF(A))"
   ]
  },
  {
   "cell_type": "code",
   "execution_count": 168,
   "metadata": {},
   "outputs": [
    {
     "data": {
      "text/plain": [
       "True"
      ]
     },
     "execution_count": 168,
     "metadata": {},
     "output_type": "execute_result"
    }
   ],
   "source": [
    "A.dtype == 'float64'"
   ]
  },
  {
   "cell_type": "code",
   "execution_count": null,
   "metadata": {},
   "outputs": [],
   "source": []
  }
 ],
 "metadata": {
  "kernelspec": {
   "display_name": "Python 3",
   "language": "python",
   "name": "python3"
  },
  "language_info": {
   "codemirror_mode": {
    "name": "ipython",
    "version": 3
   },
   "file_extension": ".py",
   "mimetype": "text/x-python",
   "name": "python",
   "nbconvert_exporter": "python",
   "pygments_lexer": "ipython3",
   "version": "3.10.12"
  }
 },
 "nbformat": 4,
 "nbformat_minor": 2
}
